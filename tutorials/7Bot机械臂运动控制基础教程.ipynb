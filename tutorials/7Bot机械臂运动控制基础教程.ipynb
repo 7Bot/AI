{
 "cells": [
  {
   "cell_type": "markdown",
   "metadata": {},
   "source": [
    "# 7Bot机械臂运动控制基础教程\n",
    "\n",
    "| 日期   | 2024年8月8日    |\n",
    "| ----- | ---------------- |\n",
    "| 版本   | Version 2.0      |\n",
    "| 作者   | PineconeAI（松果智能） |\n",
    "| 网站   | www.pinecone-ai.cn |\n",
    "| 邮箱   | jerrypeng1991@gmail.com |"
   ]
  },
  {
   "cell_type": "markdown",
   "metadata": {},
   "source": [
    "### 基础知识点：运动关节定义\n",
    "\n",
    "首先，我们来了解一下机械臂的关节定义和运动范围。7Bot为6轴机械臂，本体具有6个旋转关节（编号为0~5），二指爪作为第7个关节（编号6）。0~5号关节位置图示如下：\n",
    "\n",
    " <img src=\"./img/joints.jpg\" width=\"600\">\n",
    " \n",
    "\n",
    "<br>【0号关节】位于最底部，是机械臂本体与底座之间的连接关节，带动整个机械臂旋转，运动范围0~180度，图示如下：\n",
    "\n",
    "<img src=\"./img/joint0.jpg\" width=\"600\">\n",
    "\n",
    "<br>【1号关节】由机械臂下部左侧电机带动，控制机械臂后臂转动，运动范围0~180度（但与2号关节存在结构限位），图示如下：\n",
    "\n",
    "<img src=\"./img/joint1.jpg\" width=\"600\">\n",
    "\n",
    "<br>【2号关节】由机械臂下部右侧电机带动，通过拉杆拉动机械臂前臂，运动范围0~180度（但与1号关节存在结构限位），图示如下：\n",
    "\n",
    "<img src=\"./img/joint2.jpg\" width=\"600\">\n",
    "\n",
    "<br>【3号关节】由机械臂肘部电机带动，控制机械臂前臂转动，运动范围0~180度，图示如下：\n",
    "\n",
    "<img src=\"./img/joint3.jpg\" width=\"600\">\n",
    "\n",
    "<br>【4号关节】由机械臂腕部小电机带动，控制机械臂腕部转动，运动范围0~180度，图示如下：\n",
    "\n",
    "<img src=\"./img/joint4.jpg\" width=\"600\">\n",
    "\n",
    "<br>【5号关节】由机械臂前端小电机带动，控制机械臂前端转动，运动范围0~180度，图示如下：\n",
    "\n",
    "<img src=\"./img/joint5.jpg\" width=\"600\">\n",
    "\n",
    "<br>【6号关节】二指爪，运动范围15~90度，图示如下：\n",
    "\n",
    "<img src=\"./img/joint6.jpg\" width=\"600\">"
   ]
  },
  {
   "cell_type": "markdown",
   "metadata": {},
   "source": [
    "## 模块导入（import)\n",
    "首先，为了使用7Bot机械臂函数库，我们将 `Arm7Bot` 模块导入；其次，导入 `Python` 中的 `time` 模块，进行程序运行过程中的延时控制。"
   ]
  },
  {
   "cell_type": "code",
   "execution_count": 36,
   "metadata": {},
   "outputs": [],
   "source": [
    "from lib.Arm7Bot import Arm7Bot\n",
    "import time "
   ]
  },
  {
   "cell_type": "markdown",
   "metadata": {},
   "source": [
    "## 连接设备\n",
    "在创建Arm7Bot对象 `arm` 时，需要指定当前连接的机械臂设备在系统上对应的串口名称。\n",
    "\n",
    "<p style=\"color:red\">注意：</p>通过在自身操作系统上查询已连接的7Bot机械臂设备对应的串口名称，并将下面代码区域中括号内的 \"/dev/cu.SLAB_USBtoUART\" 串口名称做对应更改，实现机械臂设备与开发电脑或开发板之间的串口连接。\n",
    "<br>\n",
    "<br>\n",
    "\n",
    "通常7Bot机械臂在不同操作系统上的名称识别有所不同，以下是常见的串口名称： \n",
    " <br>Mac OS  &nbsp; &nbsp;`\"/dev/cu.SLAB_USBtoUART\"`\n",
    " <br>Linux   &nbsp; &nbsp;  `\"/dev/ttyUSB0\"` \n",
    " <br>Windows &nbsp;  `\"COM1\"`\n",
    "\n",
    " <img src=\"./img/1-1.jpg\" width=\"600\">\n",
    "\n",
    " "
   ]
  },
  {
   "cell_type": "code",
   "execution_count": 37,
   "metadata": {},
   "outputs": [],
   "source": [
    "# 连接7Bot机械臂，此处以在Mac OS上连接为例\n",
    "arm = Arm7Bot(\"/dev/cu.SLAB_USBtoUART\")\n"
   ]
  },
  {
   "cell_type": "markdown",
   "metadata": {},
   "source": [
    "## 实验1: 关节角度控制\n",
    "\n",
    "本实验中，我们将通过学习使用 `Arm7Bot` 模块中的 `setAngle` 和 `setAngles` 方法，设置机械臂各个关节的角度，从而实现机械臂的运动控制。\n",
    "\n",
    "### 单关节控制\n",
    "使用 `Arm7Bot` 模块的 `setAngle` 方法，进行单关节的角度控制。\n",
    "\n",
    " <img src=\"./img/1-2.jpg\" width=\"600\">\n"
   ]
  },
  {
   "cell_type": "code",
   "execution_count": 38,
   "metadata": {},
   "outputs": [],
   "source": [
    "# set individial all joint angle\n",
    "arm.setAngle(0, 50)\n",
    "time.sleep(1.5)\n",
    "arm.setAngle(0, 130)\n",
    "time.sleep(1.5)"
   ]
  },
  {
   "cell_type": "markdown",
   "metadata": {},
   "source": [
    "### 全关节控制\n",
    "使用 `Arm7Bot` 模块的 `setAngles` 方法，进行全关节的角度控制。\n",
    "\n",
    " <img src=\"./img/1-3.jpg\" width=\"600\">"
   ]
  },
  {
   "cell_type": "code",
   "execution_count": 39,
   "metadata": {},
   "outputs": [],
   "source": [
    "# set all joints at once\n",
    "pose1 = [50,  80,  50,  50,  50,  50, 40]\n",
    "arm.setAngles(pose1)\n",
    "time.sleep(2)\n",
    "pose2 = [130,  100,  80,  130,  130,  130, 80]\n",
    "arm.setAngles(pose2)\n",
    "time.sleep(2)"
   ]
  },
  {
   "cell_type": "markdown",
   "metadata": {},
   "source": [
    "当运行完程序时，通过使用 `pySerial `的  `close() `方法关闭串口，以释放端口占用。"
   ]
  },
  {
   "cell_type": "code",
   "execution_count": 40,
   "metadata": {},
   "outputs": [],
   "source": [
    "# close serial port\n",
    "if arm.ser.isOpen() == True:\n",
    "    arm.ser.close()"
   ]
  },
  {
   "cell_type": "markdown",
   "metadata": {},
   "source": [
    "#### 小结\n",
    "通过使用 `Arm7Bot` 模块的 `setAngle` 和 `setAngles` 方法，我们完成了7Bot机械臂关节角度控制编程实验与开发。\n",
    "\n",
    "<br>\n",
    "<br>"
   ]
  },
  {
   "cell_type": "markdown",
   "metadata": {},
   "source": [
    "## 实验2: 运动速度控制\n",
    "\n",
    "本实验中，我们通过学习使用 `Arm7Bot` 模块中的 `setSpeed` 方法，实现机械臂运动的速度控制。\n",
    "\n",
    " <img src=\"./img/2-2.jpg\" width=\"600\">\n",
    "\n"
   ]
  },
  {
   "cell_type": "code",
   "execution_count": 41,
   "metadata": {},
   "outputs": [],
   "source": [
    "# 由于实验1结尾关闭的串口，在这里使用 pySerial 库的 open() 方法重新打开串口。\n",
    "if arm.ser.isOpen() == False:\n",
    "    arm.ser.open()\n",
    "\n",
    "#  首先给机械臂设置一个较低的速度值20，即20*1.9°/s = 38°/s 的角速度, 并设置目标运行位置 pose1.\n",
    "arm.setSpeed(20)\n",
    "pose1 = [50,  80,  50,  50,  50,  50, 40]\n",
    "arm.setAngles(pose1)\n",
    "time.sleep(2)\n",
    "\n",
    "# 再给机械臂设置一个较高的速度值70，即70*1.9°/s = 133°/s 的角速度, 并设置目标运行位置 pose2.\n",
    "arm.setSpeed(70)\n",
    "pose2 = [130,  100,  80,  130,  130,  130, 80]\n",
    "arm.setAngles(pose2)\n",
    "time.sleep(2)"
   ]
  },
  {
   "cell_type": "markdown",
   "metadata": {},
   "source": [
    "最后，释放机械臂串口，让机械臂恢复到初始状态。"
   ]
  },
  {
   "cell_type": "code",
   "execution_count": 42,
   "metadata": {},
   "outputs": [],
   "source": [
    "# close serial port\n",
    "if arm.ser.isOpen():\n",
    "    arm.ser.close()"
   ]
  },
  {
   "cell_type": "markdown",
   "metadata": {},
   "source": [
    "#### 小结\n",
    "通过使用 `Arm7Bot` 模块的 `setSpeed` 方法，我们完成了7Bot机械臂关节运动速度控制的编程实验与开发。\n",
    "\n",
    "<br>\n",
    "<br>"
   ]
  },
  {
   "cell_type": "markdown",
   "metadata": {},
   "source": [
    "## 实验3: 运动时间控制\n",
    "\n",
    "运动执行时间指的是每个 `setAngle` 或 `setAngles` 设置角度的运动执行时间，`setTime` 方法是通过各个关节上 `运动角度/执行时间` 计算 `运动速度` 的方式完成，因此，运动速度 `setSpeed` 较执行时间 `setTime` 有更高优先级，执行时间受到所设置的运动速度为速度最大值的限制。即，使用 `setTime` 方法时，关节运动的角速度不会超过 `setSpeed` 所设定的速度值。\n",
    "\n",
    " <img src=\"./img/3-1.jpg\" width=\"600\">"
   ]
  },
  {
   "cell_type": "code",
   "execution_count": 43,
   "metadata": {},
   "outputs": [],
   "source": [
    "# 上一实验结尾关闭的串口，在这里使用 pySerial 库的 open() 方法重新打开串口。\n",
    "if arm.ser.isOpen() == False:\n",
    "    arm.ser.open()\n",
    "\n",
    "time.sleep(1)\n",
    "\n",
    "# 先给机械臂设置一个较短的运动执行时间值5，即5*100ms = 500ms 的运动执行时间, 并设置目标运行位置 pose1.\n",
    "arm.setTime(5) \n",
    "pose1 = [50,  80,  50,  50,  50,  50, 40]\n",
    "arm.setAngles(pose1)\n",
    "time.sleep(1)\n",
    "\n",
    "# 再给机械臂设置一个较长的运动执行时间值30，即30*100ms = 3000ms 的运动执行时间, 并设置目标运行位置 pose2.\n",
    "arm.setTime(30) # 30*100ms = 3000ms\n",
    "pose2 = [130,  100,  80,  130,  130,  130, 80]\n",
    "arm.setAngles(pose2)\n",
    "time.sleep(3)"
   ]
  },
  {
   "cell_type": "markdown",
   "metadata": {},
   "source": [
    "##### 小结\n",
    "通过使用 `Arm7Bot` 模块的 `setTime` 方法，我们完成了7Bot机械臂运动执行时间设置的编程实验与开发。\n",
    "\n",
    "\n",
    "<br>\n",
    "<br>"
   ]
  },
  {
   "cell_type": "markdown",
   "metadata": {},
   "source": [
    "## 实验4: 关节状态控制\n",
    "\n",
    "本实验中，我们通过学习使用 `Arm7Bot` 模块中的 `setStatus` 方法，实现机械臂的关节状态控制。\n",
    "\n",
    "<br>\n",
    "\n",
    "### 基础知识点：关节状态定义\n",
    "\n",
    "7Bot机械臂每个关节都具有3种状态设置模式。其中：\n",
    "\n",
    "* 状态0：阻尼状态，此时关节具有一定的阻尼，可以用力拉动并通过关节阻尼在不受外力拉动时保持姿态不变。该状态下，机械臂类似于“休眠”，可以在外力作用下改变形态且通过阻尼维持形态。\n",
    "  \n",
    "* 状态1：力矩输出状态，也是机械臂预设的关节状态。此时关节处于角度控制模式，在收到由 `setAngle` 或 `setAngles` 控制时，关节会进行相应的运动，反之则保持固定角度。\n",
    "  \n",
    "* 状态2：关节无力状态，此时关节出于完全松软无力的状态，可以用手灵活的拉动机械臂运动。\n",
    "\n",
    "在机械臂的智能应用开发中，可用通过 `Arm7Bot` 模块中的 `setStatus` 方法灵活的进行状态的切换，以搭建各种各样的智能应用场景。\n",
    "\n",
    "<br>\n",
    "\n",
    "使用 `Arm7Bot` 模块的 `setStatus` 方法，控制关节的状态。\n",
    "\n",
    " <img src=\"./img/4-1.jpg\" width=\"600\">"
   ]
  },
  {
   "cell_type": "code",
   "execution_count": 44,
   "metadata": {},
   "outputs": [],
   "source": [
    "# 设置关节为阻尼状态（状态0），此时关节可以用力拉动：\n",
    "arm.setStatus(0)"
   ]
  },
  {
   "cell_type": "code",
   "execution_count": 45,
   "metadata": {},
   "outputs": [],
   "source": [
    "# 设置关节为力矩输出状态（状态1），此时关节会保持姿态，无法拉动：\n",
    "arm.setStatus(1)"
   ]
  },
  {
   "cell_type": "code",
   "execution_count": 46,
   "metadata": {},
   "outputs": [],
   "source": [
    "# 设置关节为无力状态（状态2），此时关节无力，可以任意拖动：\n",
    "arm.setStatus(2)"
   ]
  },
  {
   "cell_type": "markdown",
   "metadata": {},
   "source": [
    "最后，我们释放机械臂串口，设备自行复位。"
   ]
  },
  {
   "cell_type": "code",
   "execution_count": 47,
   "metadata": {},
   "outputs": [],
   "source": [
    "# close serial port\n",
    "if arm.ser.isOpen():\n",
    "    arm.ser.close()"
   ]
  },
  {
   "cell_type": "markdown",
   "metadata": {},
   "source": [
    "##### 小结\n",
    "通过使用 `Arm7Bot` 模块的 `setStatus` 方法，我们完成了7Bot机械臂关节状态控制的编程实验与开发。\n",
    "\n",
    "<br>\n",
    "<br>"
   ]
  },
  {
   "cell_type": "markdown",
   "metadata": {},
   "source": [
    "## 实验5: 关节角度读取\n",
    "\n",
    "本实验中，我们通过学习使用 `Arm7Bot` 模块中的 `readAngle` 和 `readAngles` 方法，实现机械臂的关节角度读取。\n",
    "\n",
    "<br>\n",
    "\n",
    "### 基础知识点：关节角度读取的目的\n",
    "在上一个实验中，我们学习了通过 `setStatus` 方法控制关节的状态。那么在关节处于 状态0（阻尼状态）和 状态2（无力状态）时，我们可以通过读取关节角度值来实现运动姿态的记录。此外，在 状态1（力矩输出状态）时，也可以通过读取关节角度，并与关节设置的角度做对比，判断关节是否完成当前运动到达设定位置，以及检测是否受外力阻挡而出现关节运动卡死的情况。整体而言，关节角度以及机械臂姿态的反馈对于智能应用非常必要。"
   ]
  },
  {
   "cell_type": "code",
   "execution_count": 48,
   "metadata": {},
   "outputs": [],
   "source": [
    "# 上一实验结尾关闭的串口，在这里使用 pySerial 库的 open() 方法重新打开串口。\n",
    "if arm.ser.isOpen() == False:\n",
    "    arm.ser.open()\n",
    "\n",
    "# 进行关节角度读取前，先把关节设置为无力状态（状态2），方便拉动机械臂的关节位置以查看读取效果：\n",
    "arm.setStatus(2)"
   ]
  },
  {
   "cell_type": "markdown",
   "metadata": {},
   "source": [
    "使用 `Arm7Bot` 模块的 `readAngle` 方法，进行单关节的角度读取。\n",
    "\n",
    " <img src=\"./img/5-1.jpg\" width=\"600\">"
   ]
  },
  {
   "cell_type": "code",
   "execution_count": 50,
   "metadata": {},
   "outputs": [
    {
     "name": "stdout",
     "output_type": "stream",
     "text": [
      "angle of joint 0 is: [107]   angle of joint 1 is: [91]\n",
      "angle of joint 0 is: [106]   angle of joint 1 is: [91]\n",
      "angle of joint 0 is: [84]   angle of joint 1 is: [91]\n",
      "angle of joint 0 is: [73]   angle of joint 1 is: [91]\n",
      "angle of joint 0 is: [104]   angle of joint 1 is: [91]\n",
      "angle of joint 0 is: [124]   angle of joint 1 is: [91]\n",
      "angle of joint 0 is: [115]   angle of joint 1 is: [91]\n",
      "angle of joint 0 is: [90]   angle of joint 1 is: [91]\n",
      "angle of joint 0 is: [110]   angle of joint 1 is: [91]\n",
      "angle of joint 0 is: [126]   angle of joint 1 is: [91]\n"
     ]
    }
   ],
   "source": [
    "for i in range(10):\n",
    "    # 1. read individual joint's angle\n",
    "    angle_0 = arm.getAngle(0)\n",
    "    angle_1 = arm.getAngle(1)\n",
    "    print(\"angle of joint 0 is:\", angle_0, \"  angle of joint 1 is:\", angle_1)\n",
    "    time.sleep(0.5)"
   ]
  },
  {
   "cell_type": "markdown",
   "metadata": {},
   "source": [
    "使用 `Arm7Bot` 模块的 `readAngles` 方法，进行全关节的角度读取。\n",
    "\n",
    " <img src=\"./img/5-2.jpg\" width=\"600\">"
   ]
  },
  {
   "cell_type": "code",
   "execution_count": 51,
   "metadata": {},
   "outputs": [
    {
     "name": "stdout",
     "output_type": "stream",
     "text": [
      "Joints' Angles: [126, 91, 66, 91, 91, 90, 0]\n",
      "Joints' Angles: [126, 91, 66, 91, 91, 90, 0]\n",
      "Joints' Angles: [108, 91, 66, 91, 91, 90, 0]\n",
      "Joints' Angles: [75, 91, 66, 91, 91, 90, 0]\n",
      "Joints' Angles: [56, 91, 66, 91, 91, 90, 0]\n",
      "Joints' Angles: [54, 97, 65, 91, 91, 90, 0]\n",
      "Joints' Angles: [57, 145, 36, 91, 91, 90, 0]\n",
      "Joints' Angles: [104, 122, 12, 90, 91, 90, 0]\n",
      "Joints' Angles: [125, 114, 68, 91, 91, 90, 0]\n",
      "Joints' Angles: [108, 114, 83, 91, 91, 90, 0]\n"
     ]
    }
   ],
   "source": [
    "for i in range(10):\n",
    "    # 2. read all joints' angle at once\n",
    "    angles = arm.getAngles()\n",
    "    print(\"Joints' Angles:\", angles)\n",
    "    time.sleep(0.5)"
   ]
  },
  {
   "cell_type": "markdown",
   "metadata": {},
   "source": [
    "最后，释放机械臂串口，让机械臂回到初始状态。"
   ]
  },
  {
   "cell_type": "code",
   "execution_count": 52,
   "metadata": {},
   "outputs": [],
   "source": [
    "# close serial port\n",
    "if arm.ser.isOpen():\n",
    "    arm.ser.close()"
   ]
  },
  {
   "cell_type": "markdown",
   "metadata": {},
   "source": [
    "##### 小结\n",
    "通过使用 `Arm7Bot` 模块的 `getAngle` 和 `getAngles` 方法，实现了7Bot机械臂关节角度读取的编程实验与开发。\n",
    "\n",
    "<br>\n",
    "<br>"
   ]
  },
  {
   "cell_type": "markdown",
   "metadata": {},
   "source": [
    "## 实验6: 关节角度自动反馈\n",
    "\n",
    "简介：本实验中，我们通过学习使用 `Arm7Bot` 模块中的 `setAnglesFbFreq` 方法，设置机械臂的关节角度自动反馈频率，以及使用 `readAnglesFb` 方法进行角度反馈的检测读取。\n",
    "\n",
    "<br>\n",
    "\n",
    "### 基础知识点：关节角度自动反馈的目的\n",
    "在上一个实验中，我们学习了通过 `readAngle` 和 `readAngles` 方法进行关节角度值的读取，每次能够从机械臂反馈一个或一组关节的角度值。如果需要从机械臂得到连续不断的角度反馈，使用角度读取的方法执行效率不高，此时可以通过设置机械臂关节角度自动反馈频率的方法，实现关节角度的高效、自动反馈。"
   ]
  },
  {
   "cell_type": "code",
   "execution_count": 53,
   "metadata": {},
   "outputs": [],
   "source": [
    "# 上一实验结尾关闭的串口，在这里使用 pySerial 库的 open() 方法重新打开串口。\n",
    "if arm.ser.isOpen() == False:\n",
    "    arm.ser.open()\n",
    "\n",
    "# 设置关节角度自动反馈前，先把关节设置为无力状态（状态2），方便拉动机械臂的关节位置以查看反馈效果：\n",
    "arm.setStatus(2)"
   ]
  },
  {
   "cell_type": "markdown",
   "metadata": {},
   "source": [
    "### 设置关节角度自动反馈频率\n",
    "使用 `Arm7Bot` 模块的 `setAnglesFbFreq` 方法，进行关节角度反馈频率的设置。\n",
    "\n",
    " <img src=\"./img/6-1.jpg\" width=\"600\">"
   ]
  },
  {
   "cell_type": "code",
   "execution_count": 54,
   "metadata": {},
   "outputs": [],
   "source": [
    "arm.setAnglesFbFreq(1)  # 1 Hz "
   ]
  },
  {
   "cell_type": "markdown",
   "metadata": {},
   "source": [
    "### 读取自动反馈的关节角度\n",
    "使用 `Arm7Bot` 模块的 `readAnglesFb` 方法，读取自动反馈的关节角度。\n",
    "\n",
    " <img src=\"./img/6-2.jpg\" width=\"600\">"
   ]
  },
  {
   "cell_type": "code",
   "execution_count": 55,
   "metadata": {},
   "outputs": [
    {
     "name": "stdout",
     "output_type": "stream",
     "text": [
      "[84, 134, 62, 91, 91, 90, 0]\n",
      "[68, 134, 61, 91, 91, 90, 0]\n",
      "[117, 140, 61, 91, 91, 90, 0]\n",
      "[117, 133, 39, 91, 91, 90, 0]\n",
      "[117, 148, 39, 91, 91, 90, 0]\n",
      "[69, 172, 38, 91, 91, 89, 0]\n",
      "[31, 110, 43, 90, 91, 90, 0]\n",
      "[80, 60, 86, 91, 91, 90, 0]\n",
      "[112, 116, 68, 91, 91, 90, 0]\n",
      "[75, 146, 54, 90, 91, 90, 0]\n"
     ]
    }
   ],
   "source": [
    "for i in range(10):\n",
    "    anglesFb = arm.readAnglesFb()\n",
    "    print(anglesFb)"
   ]
  },
  {
   "cell_type": "markdown",
   "metadata": {},
   "source": [
    "最后，释放机械臂串口，让设备重启恢复初始状态"
   ]
  },
  {
   "cell_type": "code",
   "execution_count": 56,
   "metadata": {},
   "outputs": [],
   "source": [
    "# close serial port\n",
    "if arm.ser.isOpen():\n",
    "    arm.ser.close()"
   ]
  },
  {
   "cell_type": "markdown",
   "metadata": {},
   "source": [
    "##### 小结\n",
    "通过使用 `Arm7Bot` 模块的 `setAnglesFbFreq` 和 `readAnglesFb` 方法，实现了7Bot机械臂关节角度自动反馈频率设置和读取的编程实验与开发。\n",
    "\n",
    "<br>\n",
    "<br>"
   ]
  },
  {
   "cell_type": "markdown",
   "metadata": {},
   "source": [
    "## 实验7: 前端真空吸盘控制\n",
    "\n",
    "本实验中，通过学习使用 `Arm7Bot` 模块中的 `setVacuum` 方法，进行机械臂前端真空吸盘的控制。\n",
    "\n",
    "<br>\n",
    "\n",
    "### 基础知识点：前端真空吸盘\n",
    "7Bot机械臂配置有真空吸盘和二指爪两款前端执行器。真空吸盘预装在机械臂前端上，机械臂底座内集成有气泵和气阀，经由导气管连接实现前端吸盘的吸放功能。此外，吸盘前端可以更换吸嘴，实现不同物体的吸附抓取。"
   ]
  },
  {
   "cell_type": "code",
   "execution_count": 57,
   "metadata": {},
   "outputs": [],
   "source": [
    "# 上一实验结尾关闭的串口，在这里使用 pySerial 库的 open() 方法重新打开串口。\n",
    "if arm.ser.isOpen() == False:\n",
    "    arm.ser.open()"
   ]
  },
  {
   "cell_type": "markdown",
   "metadata": {},
   "source": [
    "使用 `Arm7Bot` 模块的 `setVacuum` 方法，进行前端吸盘的控制。\n",
    "\n",
    " <img src=\"./img/7-1.jpg\" width=\"600\">"
   ]
  },
  {
   "cell_type": "code",
   "execution_count": 58,
   "metadata": {},
   "outputs": [],
   "source": [
    "#  设置吸盘状态为1，开启吸附功能：\n",
    "arm.setVacuum(1)    # turn on vacuum   "
   ]
  },
  {
   "cell_type": "code",
   "execution_count": 59,
   "metadata": {},
   "outputs": [],
   "source": [
    "# 设置吸盘状态为0，关闭吸附功能：\n",
    "arm.setVacuum(0)    # turn off vacuum  "
   ]
  },
  {
   "cell_type": "markdown",
   "metadata": {},
   "source": [
    "##### 小结\n",
    "通过使用 `Arm7Bot` 模块的 `Vacuum` 方法，实现了7Bot机械臂前端真空吸盘控制的编程实验与开发。\n",
    "\n",
    "<br>\n",
    "<br>"
   ]
  },
  {
   "cell_type": "markdown",
   "metadata": {},
   "source": [
    "## 实验8: IK（反向运动学）控制\n",
    "\n",
    "反向动力学（`Inverse Kinematics`，简称IK），是指给出机器人前端点位置（通常是 `x, y, z` 坐标）和方向（通常是角度 `u, v, w` 或 `方向向量` ），反向计算出各个关节的角度。\n",
    "\n",
    "\n",
    "<br>\n",
    "<br>\n",
    "\n",
    "### 机械臂坐标系\n",
    "7Bot机械臂自身笛卡尔坐标系（XYZ）如下图所示，坐标原点位于底座上表面与0号关节选择中轴线的交点上。\n",
    "\n",
    " <img src=\"./img/8-1.jpg\" width=\"600\">\n",
    "\n",
    "<br>\n",
    "<br>\n",
    "\n",
    "### IK参数\n",
    "\n",
    "7Bot机械臂IK控制参数是：端点 `j6`，以及端点5至端点6向量 `vec56`，端点6至端点7向量 `vec67`。\n",
    "\n",
    "【端点5】：4号关节转动中轴线与5号关节转动中轴线交点\n",
    "\n",
    " <img src=\"./img/8-2.jpg\" width=\"600\">\n",
    "\n",
    " 【端点6，7】：端点6是前端中心点（下图绿色点），端点7是前端转盘左侧边缘上的点（下图蓝色点）。\n",
    "\n",
    "  <img src=\"./img/8-3.jpg\" width=\"300\">\n"
   ]
  },
  {
   "cell_type": "markdown",
   "metadata": {},
   "source": [
    "使用 `Arm7Bot` 模块的 `setIK6` 方法，进行及机械臂运动的IK控制。\n",
    "\n",
    "<img src=\"./img/8-4.jpg\" width=\"600\">"
   ]
  },
  {
   "cell_type": "code",
   "execution_count": 60,
   "metadata": {},
   "outputs": [],
   "source": [
    "# 以 j6 = （-50, 185, 50）, vec56 =  （0, 0, -1） 为坐标进行IK控制：\n",
    "arm.setIK6([-50, 185, 50], [0, 0, -1])"
   ]
  },
  {
   "cell_type": "code",
   "execution_count": 61,
   "metadata": {},
   "outputs": [],
   "source": [
    "# 以 j6 = （50, 185, 50）, vec56 =  （0, 0, -1） 为坐标进行IK控制：\n",
    "arm.setIK6([50, 185, 50], [0, 0, -1])"
   ]
  },
  {
   "cell_type": "markdown",
   "metadata": {},
   "source": [
    "##### 超出有效运动范围情况 \n",
    "以 j6 = （500, 185, 50）, vec56 = （0, 0, -1） 为坐标进行IK控制。 此时，所给定的坐标已经超出机械臂的可执行范围，收到该条指令后，机械臂将不执行超范围指令，并蜂鸣器报警："
   ]
  },
  {
   "cell_type": "code",
   "execution_count": 62,
   "metadata": {},
   "outputs": [],
   "source": [
    "arm.setIK6([500, 185, 50], [0, 0, -1])  # alarm: out of range"
   ]
  },
  {
   "cell_type": "markdown",
   "metadata": {},
   "source": [
    "最后，释放机械臂串口，让机械臂恢复闲置状态"
   ]
  },
  {
   "cell_type": "code",
   "execution_count": 63,
   "metadata": {},
   "outputs": [],
   "source": [
    "# close serial port\n",
    "if arm.ser.isOpen():\n",
    "    arm.ser.close()"
   ]
  },
  {
   "cell_type": "markdown",
   "metadata": {},
   "source": [
    "##### 小结\n",
    "通过使用 `Arm7Bot` 模块的 `setIK6` 方法，实现了7Bot机械臂IK控制的编程实验与开发。"
   ]
  }
 ],
 "metadata": {
  "kernelspec": {
   "display_name": "base",
   "language": "python",
   "name": "python3"
  },
  "language_info": {
   "codemirror_mode": {
    "name": "ipython",
    "version": 3
   },
   "file_extension": ".py",
   "mimetype": "text/x-python",
   "name": "python",
   "nbconvert_exporter": "python",
   "pygments_lexer": "ipython3",
   "version": "3.8.3"
  },
  "orig_nbformat": 2
 },
 "nbformat": 4,
 "nbformat_minor": 2
}
